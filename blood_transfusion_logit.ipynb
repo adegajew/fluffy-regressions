{
 "cells": [
  {
   "cell_type": "markdown",
   "id": "e0e1ea4d-e0e3-4414-b2e9-c0201c9d1166",
   "metadata": {},
   "source": [
    "# Logistic regression on blood transfusion data\n",
    "\n",
    "This working notebook is to try logistic regression model to predict if a blood donor will donate again within given time and what is the relationship between the variables and the target.\n",
    "\n",
    "Data is from from the Blood Transfusion Service Center in Hsin-Chu City in Taiwan and can be downloaded from UCI Machine Learning Repository http://archive.ics.uci.edu/ml"
   ]
  },
  {
   "cell_type": "code",
   "execution_count": 1,
   "id": "ac6bb090-8e92-4c7a-bee3-5ddedab78714",
   "metadata": {},
   "outputs": [],
   "source": [
    "import pandas as pd\n",
    "import numpy as np\n",
    "\n",
    "from sklearn import linear_model\n",
    "from sklearn.metrics import roc_auc_score\n",
    "from sklearn.model_selection import train_test_split\n",
    "\n",
    "import matplotlib.pyplot as plt\n",
    "import scikitplot as skplt #pip install scikit-plot"
   ]
  },
  {
   "cell_type": "code",
   "execution_count": 2,
   "id": "8379bf27-08fe-4d2f-9c9b-69789c091889",
   "metadata": {},
   "outputs": [
    {
     "data": {
      "text/html": [
       "<div>\n",
       "<style scoped>\n",
       "    .dataframe tbody tr th:only-of-type {\n",
       "        vertical-align: middle;\n",
       "    }\n",
       "\n",
       "    .dataframe tbody tr th {\n",
       "        vertical-align: top;\n",
       "    }\n",
       "\n",
       "    .dataframe thead th {\n",
       "        text-align: right;\n",
       "    }\n",
       "</style>\n",
       "<table border=\"1\" class=\"dataframe\">\n",
       "  <thead>\n",
       "    <tr style=\"text-align: right;\">\n",
       "      <th></th>\n",
       "      <th>Recency (months)</th>\n",
       "      <th>Frequency (times)</th>\n",
       "      <th>Monetary (c.c. blood)</th>\n",
       "      <th>Time (months)</th>\n",
       "      <th>whether he/she donated blood in March 2007</th>\n",
       "    </tr>\n",
       "  </thead>\n",
       "  <tbody>\n",
       "    <tr>\n",
       "      <th>0</th>\n",
       "      <td>2</td>\n",
       "      <td>50</td>\n",
       "      <td>12500</td>\n",
       "      <td>98</td>\n",
       "      <td>1</td>\n",
       "    </tr>\n",
       "    <tr>\n",
       "      <th>1</th>\n",
       "      <td>0</td>\n",
       "      <td>13</td>\n",
       "      <td>3250</td>\n",
       "      <td>28</td>\n",
       "      <td>1</td>\n",
       "    </tr>\n",
       "    <tr>\n",
       "      <th>2</th>\n",
       "      <td>1</td>\n",
       "      <td>16</td>\n",
       "      <td>4000</td>\n",
       "      <td>35</td>\n",
       "      <td>1</td>\n",
       "    </tr>\n",
       "    <tr>\n",
       "      <th>3</th>\n",
       "      <td>2</td>\n",
       "      <td>20</td>\n",
       "      <td>5000</td>\n",
       "      <td>45</td>\n",
       "      <td>1</td>\n",
       "    </tr>\n",
       "    <tr>\n",
       "      <th>4</th>\n",
       "      <td>1</td>\n",
       "      <td>24</td>\n",
       "      <td>6000</td>\n",
       "      <td>77</td>\n",
       "      <td>0</td>\n",
       "    </tr>\n",
       "  </tbody>\n",
       "</table>\n",
       "</div>"
      ],
      "text/plain": [
       "   Recency (months)  Frequency (times)  Monetary (c.c. blood)  Time (months)  \\\n",
       "0                 2                 50                  12500             98   \n",
       "1                 0                 13                   3250             28   \n",
       "2                 1                 16                   4000             35   \n",
       "3                 2                 20                   5000             45   \n",
       "4                 1                 24                   6000             77   \n",
       "\n",
       "   whether he/she donated blood in March 2007  \n",
       "0                                           1  \n",
       "1                                           1  \n",
       "2                                           1  \n",
       "3                                           1  \n",
       "4                                           0  "
      ]
     },
     "execution_count": 2,
     "metadata": {},
     "output_type": "execute_result"
    }
   ],
   "source": [
    "columns = ['R', 'F', 'M', 'T', 'a']\n",
    "raw_data = pd.read_csv('http://archive.ics.uci.edu/ml/machine-learning-databases/blood-transfusion/transfusion.data',\n",
    "                #names = columns,\n",
    "                #index_col = False,\n",
    "                skipinitialspace=True)\n",
    "\n",
    "raw_data.head()\n",
    "\n",
    "#R (Recency - months since last donation),\n",
    "#F (Frequency - total number of donation),\n",
    "#M (Monetary - total blood donated in c.c.),\n",
    "#T (Time - months since first donation)\n",
    "#a binary variable representing whether he/she donated blood in March 2007 (1 - yes, 0 - no)"
   ]
  },
  {
   "cell_type": "code",
   "execution_count": 3,
   "id": "c02aa017-8d6d-4bd0-83b2-9fbaa8bb465d",
   "metadata": {},
   "outputs": [
    {
     "name": "stdout",
     "output_type": "stream",
     "text": [
      "<class 'pandas.core.frame.DataFrame'>\n",
      "RangeIndex: 748 entries, 0 to 747\n",
      "Data columns (total 5 columns):\n",
      " #   Column                                      Non-Null Count  Dtype\n",
      "---  ------                                      --------------  -----\n",
      " 0   Recency (months)                            748 non-null    int64\n",
      " 1   Frequency (times)                           748 non-null    int64\n",
      " 2   Monetary (c.c. blood)                       748 non-null    int64\n",
      " 3   Time (months)                               748 non-null    int64\n",
      " 4   whether he/she donated blood in March 2007  748 non-null    int64\n",
      "dtypes: int64(5)\n",
      "memory usage: 29.3 KB\n"
     ]
    }
   ],
   "source": [
    "raw_data.info()"
   ]
  },
  {
   "cell_type": "code",
   "execution_count": 4,
   "id": "2ec13051-3f50-42ce-8473-5b4543786250",
   "metadata": {},
   "outputs": [],
   "source": [
    "data = raw_data.copy()"
   ]
  },
  {
   "cell_type": "code",
   "execution_count": 5,
   "id": "86e73d21-16fc-4cab-a438-9a35875cc80a",
   "metadata": {},
   "outputs": [],
   "source": [
    "data.columns = ['recency', 'frequency', 'monetary', 'time', 'target']"
   ]
  },
  {
   "cell_type": "code",
   "execution_count": 6,
   "id": "6063d681-56d9-4b76-a188-580e5cf0030e",
   "metadata": {},
   "outputs": [
    {
     "data": {
      "text/plain": [
       "0.23796791443850268"
      ]
     },
     "execution_count": 6,
     "metadata": {},
     "output_type": "execute_result"
    }
   ],
   "source": [
    "sum(data['target'])/len(data)\n",
    "\n",
    "#incidence is not very low!"
   ]
  },
  {
   "cell_type": "markdown",
   "id": "df8d2046-d8f1-4f0a-a57f-ed18e37964ae",
   "metadata": {},
   "source": [
    "## Logistic regression model"
   ]
  },
  {
   "cell_type": "code",
   "execution_count": 7,
   "id": "03b4c1bb-12c4-4d5c-a67b-27bae81507f4",
   "metadata": {},
   "outputs": [
    {
     "name": "stdout",
     "output_type": "stream",
     "text": [
      "recency\t-0.09855504818175743\n",
      "frequency\t2.1662954778041675e-06\n",
      "monetary\t0.0005415738692981355\n",
      "time\t-0.023094135809504084\n",
      "[-0.44970589]\n"
     ]
    }
   ],
   "source": [
    "#dataframe X with cadidate predictors only\n",
    "independent = ['recency', 'frequency', 'monetary', 'time']\n",
    "x = data[independent]\n",
    "\n",
    "#dataframe with target #values = numoy array #ravel = flatten, convert to (n, )\n",
    "y = data[['target']].values.ravel()\n",
    "\n",
    "#model & fit to data\n",
    "logreg = linear_model.LogisticRegression()\n",
    "logreg.fit(x, y)\n",
    "\n",
    "#coefficients & intercept\n",
    "coef = logreg.coef_\n",
    "for p,c in zip(independent,list(coef[0])):\n",
    "    print(p + '\\t' + str(c))\n",
    "    \n",
    "intercept = logreg.intercept_\n",
    "print(intercept)"
   ]
  },
  {
   "cell_type": "code",
   "execution_count": 8,
   "id": "63c51afe-8a54-4568-a1bb-8f8c1a4f265c",
   "metadata": {},
   "outputs": [
    {
     "name": "stdout",
     "output_type": "stream",
     "text": [
      "[[0.6763861 0.3236139]]\n"
     ]
    }
   ],
   "source": [
    "#make predictions based on given independent variables\n",
    "#new sample data\n",
    "new_data = pd.DataFrame([[3, 12, 3000, 70]], columns = ['recency',\t'frequency', 'monetary', 'time'])\n",
    "\n",
    "#predict\n",
    "pred = logreg.predict_proba(new_data)\n",
    "print(pred)\n",
    "\n",
    "#probability of 0, probability of 1"
   ]
  },
  {
   "cell_type": "markdown",
   "id": "b6b41402-b536-4a94-b6ee-3e677a753192",
   "metadata": {},
   "source": [
    "## Selecting variables"
   ]
  },
  {
   "cell_type": "code",
   "execution_count": 9,
   "id": "39563b41-6dd9-4355-9f28-7297f4ab6f6d",
   "metadata": {},
   "outputs": [
    {
     "name": "stdout",
     "output_type": "stream",
     "text": [
      "0.75\n"
     ]
    }
   ],
   "source": [
    "#AUC to check the model, how well a model can order observations from low to high probability to be target\n",
    "#make predictions from the original set\n",
    "predictions = logreg.predict_proba(x)\n",
    "pred_target = predictions[:,1]\n",
    "\n",
    "#true target and predictions\n",
    "auc = roc_auc_score(y, pred_target)\n",
    "print(round(auc,2))"
   ]
  },
  {
   "cell_type": "code",
   "execution_count": 10,
   "id": "c349643a-7ba7-4c55-9b37-35bf4fe663e8",
   "metadata": {},
   "outputs": [
    {
     "name": "stdout",
     "output_type": "stream",
     "text": [
      "0.74\n",
      "0.72\n"
     ]
    }
   ],
   "source": [
    "#checking score from two sets of variables\n",
    "set_1 = ['recency', 'frequency']\n",
    "set_2 = ['monetary', 'time']\n",
    "\n",
    "x_1 = data[set_1]\n",
    "x_2 = data[set_2]\n",
    "\n",
    "logreg = linear_model.LogisticRegression()\n",
    "\n",
    "logreg.fit(x_1, y)\n",
    "pred_1 = logreg.predict_proba(x_1)[:,1]\n",
    "auc_1 = roc_auc_score(y, pred_1)\n",
    "\n",
    "logreg.fit(x_2, y)\n",
    "pred_2 = logreg.predict_proba(x_2)[:,1]\n",
    "auc_2 = roc_auc_score(y, pred_2)\n",
    "\n",
    "# Print auc_1 and auc_2\n",
    "print(round(auc_1,2))\n",
    "print(round(auc_2,2))"
   ]
  },
  {
   "cell_type": "markdown",
   "id": "06f5c651-eb7f-47b0-a828-0bc17a0662ed",
   "metadata": {},
   "source": [
    "Forward stepwise variable selection"
   ]
  },
  {
   "cell_type": "code",
   "execution_count": 11,
   "id": "839aa49e-4cb0-4cc0-8daa-c3607b01f930",
   "metadata": {},
   "outputs": [],
   "source": [
    "#function: calculate AUC for a given variable set that the model uses\n",
    "\n",
    "def auc(variables, target, df):    \n",
    "    #input\n",
    "    X = df[variables]    \n",
    "    y = df[target].values.ravel()    \n",
    "    #prediction\n",
    "    logreg = linear_model.LogisticRegression()    \n",
    "    logreg.fit(X, y)    \n",
    "    #auc\n",
    "    predictions = logreg.predict_proba(X)[:,1]    \n",
    "    auc = roc_auc_score(y, predictions)\n",
    "    return(auc)"
   ]
  },
  {
   "cell_type": "code",
   "execution_count": 12,
   "id": "30761426-f498-4f10-b2c8-5b00d9b504b4",
   "metadata": {},
   "outputs": [
    {
     "name": "stdout",
     "output_type": "stream",
     "text": [
      "0.7351271437019515\n"
     ]
    }
   ],
   "source": [
    "auc_1 = auc(['recency','frequency'],['target'],data)\n",
    "print(auc_1)"
   ]
  },
  {
   "cell_type": "code",
   "execution_count": 108,
   "id": "441a4a76-7575-4f25-bb7e-51c06fe0dec8",
   "metadata": {},
   "outputs": [],
   "source": [
    "#function: next best variable in combination with current variable\n",
    "\n",
    "def next_best(current_variables, candidate_variables, target, df):\n",
    "    best_auc = -1\n",
    "    best_var = []\n",
    "    #auc for each variable in set\n",
    "    for v in candidate_variables:\n",
    "        auc_v = auc (current_variables + [v], target, df)\n",
    "        #if better than auc so far then replace\n",
    "        if auc_v >= best_auc:\n",
    "            best_auc = auc_v\n",
    "            best_var = v\n",
    "    return best_var"
   ]
  },
  {
   "cell_type": "code",
   "execution_count": 14,
   "id": "13ece48a-0e4e-49ef-96ef-ed4c21ec854a",
   "metadata": {},
   "outputs": [
    {
     "name": "stdout",
     "output_type": "stream",
     "text": [
      "frequency\n"
     ]
    }
   ],
   "source": [
    "current_var = ['recency']\n",
    "candidate_var = ['monetary', 'frequency']\n",
    "\n",
    "next_variable = next_best(current_var, candidate_var, ['target'], data)\n",
    "\n",
    "print(next_variable)"
   ]
  },
  {
   "cell_type": "code",
   "execution_count": 15,
   "id": "8d1a7ff0-9a7b-494c-8d9c-cd9ef391832d",
   "metadata": {},
   "outputs": [
    {
     "name": "stdout",
     "output_type": "stream",
     "text": [
      "Variable added in step 1 is recency.\n",
      "Variable added in step 2 is monetary.\n",
      "Variable added in step 3 is time.\n",
      "['recency', 'monetary', 'time']\n"
     ]
    }
   ],
   "source": [
    "#selection procedure\n",
    "\n",
    "#empty set and add one by one\n",
    "candidate_var = list(data.columns.values)\n",
    "candidate_var.remove('target')\n",
    "\n",
    "current_var = []\n",
    "\n",
    "#max no of variables that can be added:\n",
    "max_var = 3\n",
    "\n",
    "#iterations:\n",
    "no_of_iterations = min(max_var, len(candidate_var)) #3\n",
    "\n",
    "#current variable list:\n",
    "for i in range(0, no_of_iterations):\n",
    "    next_var = next_best(current_var, candidate_var, ['target'], data)\n",
    "    current_var = current_var + [next_var]\n",
    "    candidate_var.remove(next_var)\n",
    "    print(\"Variable added in step \" + str(i+1)  + \" is \" + next_var + \".\")\n",
    "print(current_var)"
   ]
  },
  {
   "cell_type": "code",
   "execution_count": 16,
   "id": "687286f7-be83-42e0-9250-b4553cdbdf87",
   "metadata": {},
   "outputs": [],
   "source": [
    "#del current_var"
   ]
  },
  {
   "cell_type": "code",
   "execution_count": 17,
   "id": "fe5684da-a3cd-4054-8a30-6404023c93fb",
   "metadata": {},
   "outputs": [
    {
     "data": {
      "text/plain": [
       "0.6349402703229293"
      ]
     },
     "execution_count": 17,
     "metadata": {},
     "output_type": "execute_result"
    }
   ],
   "source": [
    "#check correlation\n",
    "correlation = np.corrcoef(data[\"time\"], data[\"frequency\"])[0,1]\n",
    "correlation"
   ]
  },
  {
   "cell_type": "code",
   "execution_count": 18,
   "id": "5a142f55-2acd-4080-a52a-e3f318eb010f",
   "metadata": {},
   "outputs": [
    {
     "name": "stdout",
     "output_type": "stream",
     "text": [
      "0.78\n",
      "0.71\n"
     ]
    }
   ],
   "source": [
    "#decide on number of variables & overfitting\n",
    "\n",
    "#check on test data\n",
    "x = data.drop('target', axis = 1) #x = data.drop('target', inplace = True, axis = 1) #inplace modifies the underlying data\n",
    "y = data['target']\n",
    "\n",
    "x_train, x_test, y_train, y_test = train_test_split(x, y, test_size = 0.3, \n",
    "                                                    random_state=11, #seed\n",
    "                                                    stratify = y)\n",
    "\n",
    "#final train & test df\n",
    "train_df = pd.concat([x_train, y_train], axis=1)\n",
    "test_df = pd.concat([x_test, y_test], axis=1)\n",
    "\n",
    "#confirm stratify - same target % in both\n",
    "\n",
    "#print(round(sum(train_df['target'])/len(train_df), 2))\n",
    "#print(round(sum(test_df['target'])/len(test_df), 2))\n",
    "\n",
    "variables = ['recency',\t'frequency', 'monetary', 'time']\n",
    "target = ['target']\n",
    "\n",
    "auc_train = auc(variables , target, train_df)\n",
    "auc_test = auc(variables , target, test_df)\n",
    "\n",
    "print(round(auc_train,2))\n",
    "print(round(auc_test,2))\n",
    "\n",
    "#test auc < train auc --> overfitting"
   ]
  },
  {
   "cell_type": "code",
   "execution_count": 19,
   "id": "b87f3669-73b6-4167-945e-ec6615f5e327",
   "metadata": {},
   "outputs": [
    {
     "data": {
      "image/png": "[encoded data removed]",
      "text/plain": [
       "<Figure size 432x288 with 1 Axes>"
      ]
     },
     "metadata": {
      "needs_background": "light"
     },
     "output_type": "display_data"
    }
   ],
   "source": [
    "#AUC curves\n",
    "\n",
    "#values at each iteration\n",
    "auc_values_train = []\n",
    "auc_values_test = []\n",
    "#evaluated variables\n",
    "variables_evaluate = []\n",
    "\n",
    "for v in variables:\n",
    "    #add the variable\n",
    "    variables_evaluate.append(v)\n",
    "    \n",
    "    auc_train = auc(variables_evaluate, target, train_df)\n",
    "    auc_test = auc(variables_evaluate , target, test_df)\n",
    "    \n",
    "    # Append the values\n",
    "    auc_values_train.append(auc_train)\n",
    "    auc_values_test.append(auc_test)\n",
    "\n",
    "    \n",
    "#plot\n",
    "x = np.array(range(0,len(auc_values_train)))\n",
    "auc_y_train = np.array(auc_values_train)\n",
    "auc_y_test = np.array(auc_values_test)\n",
    "plt.xticks(x, variables, rotation = 90)\n",
    "plt.plot(x, auc_y_train, label = 'train', color = 'red')\n",
    "plt.plot(x, auc_y_test, label = 'test', color = 'green')\n",
    "plt.legend(loc=\"upper left\")\n",
    "plt.ylim((0.6, 0.8))\n",
    "plt.show()\n",
    "\n",
    "#when test AUC does not increase & better to have less complex models"
   ]
  },
  {
   "cell_type": "markdown",
   "id": "83dc42dd-94c7-42af-90e4-1096bf7cf0ed",
   "metadata": {},
   "source": [
    "## Visualizing model performance"
   ]
  },
  {
   "cell_type": "code",
   "execution_count": 20,
   "id": "b09ef671-d2ee-489d-834d-9856b15fd3ab",
   "metadata": {},
   "outputs": [
    {
     "data": {
      "image/png": "[encoded data removed]",
      "text/plain": [
       "<Figure size 432x288 with 1 Axes>"
      ]
     },
     "metadata": {
      "needs_background": "light"
     },
     "output_type": "display_data"
    }
   ],
   "source": [
    "#see how model responds to data\n",
    "#cumulative gains curve - % of targets reached considering a certain & of population with the highest probability to be target\n",
    "#https://scikit-plot.readthedocs.io/en/stable/metrics.html\n",
    "\n",
    "logreg.fit(x_train, y_train)\n",
    "predicted_probs_test = logreg.predict_proba(x_test)\n",
    "\n",
    "skplt.metrics.plot_cumulative_gain(y_test, predicted_probs_test)\n",
    "plt.show()"
   ]
  },
  {
   "cell_type": "code",
   "execution_count": 21,
   "id": "a72432f1-a92f-44b2-ba28-06cc82496276",
   "metadata": {},
   "outputs": [
    {
     "data": {
      "image/png": "[encoded data removed]",
      "text/plain": [
       "<Figure size 432x288 with 1 Axes>"
      ]
     },
     "metadata": {
      "needs_background": "light"
     },
     "output_type": "display_data"
    }
   ],
   "source": [
    "#lift curve\n",
    "#how many times more than average the model reaches targets when given % percentage of the population most likely to be target\n",
    "\n",
    "skplt.metrics.plot_lift_curve(y_test, predicted_probs_test)\n",
    "plt.show()"
   ]
  },
  {
   "cell_type": "markdown",
   "id": "de553d34",
   "metadata": {},
   "source": [
    "Predictor Insight - graphical representation of the relation between variable & target"
   ]
  },
  {
   "cell_type": "code",
   "execution_count": 46,
   "id": "17f31ba4",
   "metadata": {},
   "outputs": [
    {
     "name": "stdout",
     "output_type": "stream",
     "text": [
      "monetary_bin\n",
      "(249.999, 500.0]     270\n",
      "(500.0, 1000.0]      149\n",
      "(1000.0, 1500.0]     114\n",
      "(1500.0, 2250.0]      98\n",
      "(2250.0, 12500.0]    117\n",
      "dtype: int64\n"
     ]
    }
   ],
   "source": [
    "#discretizing continuous variables\n",
    "#single variable:\n",
    "data['monetary_bin'] = pd.qcut(data['monetary'], 6 #split into 6 bins #pd.cut if want to specify bins\n",
    "                        , duplicates = 'drop')\n",
    "\n",
    "#check if bins are similar in size\n",
    "print(data.groupby('monetary_bin').size())"
   ]
  },
  {
   "cell_type": "code",
   "execution_count": 64,
   "id": "300cb5be",
   "metadata": {},
   "outputs": [
    {
     "name": "stdout",
     "output_type": "stream",
     "text": [
      "Index(['recency', 'frequency', 'monetary', 'time', 'target', 'monetary_bins',\n",
      "       'monetary_bin', 'disc_recency', 'disc_frequency', 'disc_monetary',\n",
      "       'disc_time'],\n",
      "      dtype='object')\n"
     ]
    }
   ],
   "source": [
    "#data.drop(['monetary_bins'], axis=1)\n",
    "df = data.copy()\n",
    "\n",
    "#discretizing continuous variables\n",
    "#multiple variables:\n",
    "\n",
    "#variables except target\n",
    "variables = list(df.columns)\n",
    "variables.remove('target')\n",
    "\n",
    "for variable in variables:\n",
    "    if len(df.groupby(variable))>5:\n",
    "        new_variable = \"disc_\" + variable\n",
    "        df[new_variable] = pd.qcut(df[variable], 5, duplicates = 'drop')\n",
    "\n",
    "print(df.columns)"
   ]
  },
  {
   "cell_type": "code",
   "execution_count": 65,
   "id": "11217177",
   "metadata": {},
   "outputs": [
    {
     "name": "stdout",
     "output_type": "stream",
     "text": [
      "        monetary_bin  avg_target\n",
      "0   (249.999, 500.0]    0.144444\n",
      "1    (500.0, 1000.0]    0.181208\n",
      "2   (1000.0, 1500.0]    0.324561\n",
      "3   (1500.0, 2250.0]    0.316327\n",
      "4  (2250.0, 12500.0]    0.376068\n"
     ]
    }
   ],
   "source": [
    "#prepare a table for plotting with: intervals, avg, size of the group\n",
    "\n",
    "#what table should look like:\n",
    "data_monetary = data[['monetary_bin','target']] \n",
    "\n",
    "groups = data_monetary.groupby('monetary_bin') #group by bins\n",
    "incidence = groups['target'].agg(avg_target = 'mean').reset_index() #avg incidence rate in each group\n",
    "\n",
    "print(incidence)\n",
    "#the higher total blood donated the higher avg incident rate"
   ]
  },
  {
   "cell_type": "code",
   "execution_count": 66,
   "id": "e8b8977d",
   "metadata": {},
   "outputs": [],
   "source": [
    "#function to create predictor insight graph table\n",
    "\n",
    "def create_pig_table(df, target, variable):\n",
    "    groups = df[[target,variable]].groupby(variable)\n",
    "    pig_table = groups[target].agg(incidence = 'mean', size = 'size').reset_index()\n",
    "    return pig_table\n",
    "\n",
    "#create_pig_table(data, \"target\", \"monetary_bin\")"
   ]
  },
  {
   "cell_type": "code",
   "execution_count": 75,
   "id": "520224ac",
   "metadata": {},
   "outputs": [
    {
     "name": "stdout",
     "output_type": "stream",
     "text": [
      "       disc_time  incidence  size\n",
      "0  (1.999, 14.0]   0.240223   179\n",
      "1   (14.0, 23.0]   0.223881   134\n",
      "2   (23.0, 35.0]   0.277778   144\n",
      "3   (35.0, 57.0]   0.268966   145\n",
      "4   (57.0, 98.0]   0.178082   146\n"
     ]
    }
   ],
   "source": [
    "#dictionary to create table for many variables at once\n",
    "pig_tables = {}\n",
    "\n",
    "variables = ['disc_recency', 'disc_frequency', 'disc_monetary', 'disc_time']\n",
    "\n",
    "#loop\n",
    "for variable in variables:\n",
    "    #create a table\n",
    "    pig_table = create_pig_table(df, 'target', variable)\n",
    "    #add to the dictionary\n",
    "    pig_tables[variable] = pig_table #dictionary[\"key\"] = value\n",
    "\n",
    "print(pig_tables['disc_time'])"
   ]
  },
  {
   "cell_type": "code",
   "execution_count": 94,
   "id": "3265f2b6",
   "metadata": {},
   "outputs": [
    {
     "data": {
      "image/png": "[encoded data removed]",
      "text/plain": [
       "<Figure size 432x288 with 1 Axes>"
      ]
     },
     "metadata": {
      "needs_background": "light"
     },
     "output_type": "display_data"
    }
   ],
   "source": [
    "#function to plot target line only\n",
    "\n",
    "def plot_incidence(pig_table, variable):\n",
    "    #plot target line\n",
    "    pig_table['incidence'].plot(color = 'goldenrod') #plot()\n",
    "    \n",
    "    plt.xticks(np.arange(len(pig_table)), pig_table[variable])\n",
    "    plt.xlim([-0.5, len(pig_table) - 0.5])\n",
    "    plt.ylim([0, max(pig_table['incidence'] * 2)])\n",
    "    plt.ylabel('incidence', rotation = 0, rotation_mode='anchor', ha='right')\n",
    "    plt.xlabel(variable)\n",
    "\n",
    "    plt.show()\n",
    "\n",
    "#check\n",
    "plot_incidence(pig_tables['disc_recency'], 'disc_recency')"
   ]
  },
  {
   "cell_type": "code",
   "execution_count": 106,
   "id": "be6cac8f",
   "metadata": {},
   "outputs": [
    {
     "data": {
      "image/png": "[encoded data removed]",
      "text/plain": [
       "<Figure size 432x288 with 2 Axes>"
      ]
     },
     "metadata": {
      "needs_background": "light"
     },
     "output_type": "display_data"
    }
   ],
   "source": [
    "#function to plot target line & size bar\n",
    "\n",
    "def plot_pig(pig_table, variable):\n",
    "    #plot bars\n",
    "    plt.ylabel('Size', rotation=0, rotation_mode='anchor', ha='right')\n",
    "    \n",
    "    pig_table['size'].plot(kind=\"bar\", width=0.5, color='dimgrey', edgecolor=\"none\") \n",
    "    \n",
    "    #plot target line on secondary axis\n",
    "    pig_table['incidence'].plot(secondary_y = True, color = 'darkorange', linewidth = 2)\n",
    "\n",
    "    plt.xticks(np.arange(len(pig_table)), pig_table[variable])\n",
    "    plt.xlim([-0.5, len(pig_table) - 0.5])\n",
    "    plt.ylabel('Incidence', rotation=0, rotation_mode='anchor', ha='left')\n",
    "\n",
    "    plt.title(variable)\n",
    "    \n",
    "    plt.show()\n",
    "    \n",
    "#check\n",
    "plot_pig(pig_tables['disc_recency'], 'disc_recency')\n",
    "#th higher months since last donation the lower target incidence"
   ]
  },
  {
   "cell_type": "code",
   "execution_count": 107,
   "id": "c2f6a991",
   "metadata": {},
   "outputs": [
    {
     "data": {
      "image/png": "[encoded data removed]",
      "text/plain": [
       "<Figure size 432x288 with 2 Axes>"
      ]
     },
     "metadata": {
      "needs_background": "light"
     },
     "output_type": "display_data"
    },
    {
     "data": {
      "image/png": "[encoded data removed]",
      "text/plain": [
       "<Figure size 432x288 with 2 Axes>"
      ]
     },
     "metadata": {
      "needs_background": "light"
     },
     "output_type": "display_data"
    },
    {
     "data": {
      "image/png": "[encoded data removed]",
      "text/plain": [
       "<Figure size 432x288 with 2 Axes>"
      ]
     },
     "metadata": {
      "needs_background": "light"
     },
     "output_type": "display_data"
    },
    {
     "data": {
      "image/png": "[encoded data removed]",
      "text/plain": [
       "<Figure size 432x288 with 2 Axes>"
      ]
     },
     "metadata": {
      "needs_background": "light"
     },
     "output_type": "display_data"
    }
   ],
   "source": [
    "#plot multiple at once\n",
    "for variable in variables:\n",
    "    pig_table = create_pig_table(df, 'target', variable)\n",
    "    plot_pig(pig_table, variable)\n",
    "\n",
    "#bins with bin size vs. incidence rate for each bin "
   ]
  }
 ],
 "metadata": {
  "kernelspec": {
   "display_name": "Python 3.9.12 ('base')",
   "language": "python",
   "name": "python3"
  },
  "language_info": {
   "codemirror_mode": {
    "name": "ipython",
    "version": 3
   },
   "file_extension": ".py",
   "mimetype": "text/x-python",
   "name": "python",
   "nbconvert_exporter": "python",
   "pygments_lexer": "ipython3",
   "version": "3.9.12"
  },
  "vscode": {
   "interpreter": {
    "hash": "7bb0b15787cfc07ef0abc3040f165cbe4ca6a00336d713d8112c62a3e5677b2a"
   }
  }
 },
 "nbformat": 4,
 "nbformat_minor": 5
}
